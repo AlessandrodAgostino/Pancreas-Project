{
 "cells": [
  {
   "cell_type": "code",
   "execution_count": 1,
   "metadata": {},
   "outputs": [],
   "source": [
    "import numpy as np\n",
    "import matplotlib.pyplot as plt\n",
    "\n",
    "\n",
    "\"\"\"\n",
    "    Define a point with the heading direction and the distance to be covered:\n",
    "         p[0]: x coordinate\n",
    "         p[1]: y coordinate\n",
    "         p[2]: [0;360] angle that describe the heading direction of the future segment\n",
    "         p[3]: lenght of the future segment coming out of the point\n",
    "\"\"\"\n",
    "\n",
    "def next_point(sign, p, D = 85, R = 1.45, noise = True, noise_band = 5):\n",
    "    \n",
    "    if sign == \"+\" : alpha = p[2]+ D\n",
    "    elif sign == \"-\" : alpha = p[2]- D #TO DO: raise exception!\n",
    "    \n",
    "    if noise: alpha = alpha + np.random.uniform((-1)*noise_band, noise_band)\n",
    "    return np.array([p[0] + p[3]*np.sin((alpha)* np.pi/180),\n",
    "                    p[1] + p[3]*np.cos((alpha)* np.pi/180),\n",
    "                    alpha,\n",
    "                    p[3]/R])\n",
    "\n",
    "        \n",
    "def ramificate(Sequence, vectors):\n",
    "    for p in Sequence:\n",
    "        \n",
    "        S1 = next_point(\"+\", p)\n",
    "        vectors.append(((p[0], S1[0]),(p[1],S1[1]))) \n",
    "        #contains vectors' coordinates in plt friendly way [((x1,x2),(y1,y2)), ...]\n",
    "        yield S1\n",
    "        \n",
    "        S2 = next_point(\"-\", p)\n",
    "        vectors.append(((p[0], S2[0]),(p[1],S2[1])))\n",
    "        yield S2"
   ]
  },
  {
   "cell_type": "markdown",
   "metadata": {},
   "source": [
    "## Drawing's Ramification"
   ]
  },
  {
   "cell_type": "code",
   "execution_count": 2,
   "metadata": {},
   "outputs": [
    {
     "data": {
      "text/plain": [
       "(65, 4)"
      ]
     },
     "execution_count": 2,
     "metadata": {},
     "output_type": "execute_result"
    }
   ],
   "source": [
    "vectors = []\n",
    "O = np.array([0,0,0,1])\n",
    "p1 = np.array([0,-np.sqrt(2),0,1])\n",
    "vectors.append(((O[0], p1[0]),(O[1],p1[1])))\n",
    "Sequence = [p1]\n",
    "rep = 6\n",
    "for _ in range(rep):\n",
    "    Sequence = [x for x in ramificate(Sequence, vectors)]\n",
    "    \n",
    "Sequence = np.stack([O] + Sequence) #Adding in head the first point\n",
    "Sequence.shape\n"
   ]
  },
  {
   "cell_type": "markdown",
   "metadata": {},
   "source": [
    "## Plotting Drawing"
   ]
  },
  {
   "cell_type": "code",
   "execution_count": 46,
   "metadata": {},
   "outputs": [
    {
     "data": {
      "image/png": "[encoded data removed]",
      "text/plain": [
       "<Figure size 432x288 with 1 Axes>"
      ]
     },
     "metadata": {
      "needs_background": "light"
     },
     "output_type": "display_data"
    }
   ],
   "source": [
    "fig = plt.figure()\n",
    "plt.scatter(Sequence[:,0],Sequence[:,1], marker = '.', s = 0.5)\n",
    "plt.scatter(Sequence[3,0],Sequence[3,1], marker = 'o', s = 10, c = 'orange')\n",
    "for v in vectors:\n",
    "    plt.plot(*v, 'b', lw = 0.5)\n",
    "plt.show()\n",
    "fig.savefig('ramification_{}.png'.format(rep), dpi=1000)"
   ]
  },
  {
   "cell_type": "markdown",
   "metadata": {},
   "source": [
    "## Computation of N.N."
   ]
  },
  {
   "cell_type": "code",
   "execution_count": 3,
   "metadata": {},
   "outputs": [
    {
     "data": {
      "text/plain": [
       "(array([0.]), array([3]))"
      ]
     },
     "execution_count": 3,
     "metadata": {},
     "output_type": "execute_result"
    }
   ],
   "source": [
    "from scipy.spatial import cKDTree\n",
    "\n",
    "Points = Sequence[:,0:2]\n",
    "Tree = cKDTree(Points)\n",
    "\n",
    "p_3 = Points[3,:]\n",
    "p_4 = Points[4,:]\n",
    "\n",
    "Tree.query(p_3, k=[1])"
   ]
  },
  {
   "cell_type": "code",
   "execution_count": 48,
   "metadata": {},
   "outputs": [
    {
     "data": {
      "text/plain": [
       "array([[ 0.        ,  0.        ],\n",
       "       [ 0.90417564, -1.8218378 ],\n",
       "       [ 0.7184538 , -1.57221478],\n",
       "       [ 0.33001523, -1.77666322],\n",
       "       [ 0.4565576 , -2.06101067],\n",
       "       [ 0.56670026, -2.39327739],\n",
       "       [ 0.70895781, -2.66921188],\n",
       "       [ 1.11523686, -2.54719753],\n",
       "       [ 1.05842239, -2.24052827],\n",
       "       [ 1.46960814, -2.1081571 ],\n",
       "       [ 1.61021751, -2.38542834],\n",
       "       [ 2.01665823, -2.24870151],\n",
       "       [ 1.95772192, -1.94322092],\n",
       "       [ 1.851368  , -1.58747999],\n",
       "       [ 1.77327276, -1.28860182],\n",
       "       [ 1.32326914, -1.37208407],\n",
       "       [ 1.35417664, -1.68197319],\n",
       "       [ 1.17411879, -0.73647776],\n",
       "       [ 1.27831825, -1.03015195],\n",
       "       [ 1.70842549, -0.90803993],\n",
       "       [ 1.6555269 , -0.60193038],\n",
       "       [ 1.57048735, -0.25685198],\n",
       "       [ 1.50678255,  0.04683474],\n",
       "       [ 1.04851902, -0.02036845],\n",
       "       [ 1.08317116, -0.3296866 ],\n",
       "       [ 0.61739599, -0.37885463],\n",
       "       [ 0.52501537, -0.08107666],\n",
       "       [ 0.08032422, -0.20804676],\n",
       "       [ 0.16435322, -0.50801206],\n",
       "       [ 0.182103  , -0.8438272 ],\n",
       "       [ 0.22605988, -1.15232277],\n",
       "       [ 0.67942229, -1.10847102],\n",
       "       [ 0.67203909, -0.79805507],\n",
       "       [-0.76508616, -0.86816265],\n",
       "       [-0.66350688, -1.16103213],\n",
       "       [-0.23372065, -1.05567492],\n",
       "       [-0.26622813, -0.74595328],\n",
       "       [-0.28139795, -0.43120881],\n",
       "       [-0.28067212, -0.12087144],\n",
       "       [-0.71922517, -0.08868094],\n",
       "       [-0.79354452, -0.39090866],\n",
       "       [-1.21615139, -0.43610358],\n",
       "       [-1.26965366, -0.12993465],\n",
       "       [-1.71917619, -0.14961279],\n",
       "       [-1.7175567 , -0.46094071],\n",
       "       [-1.76120853, -0.76838613],\n",
       "       [-1.80167526, -1.07607617],\n",
       "       [-1.36270524, -1.17456633],\n",
       "       [-1.26723133, -0.87830776],\n",
       "       [-1.33326378, -1.80905284],\n",
       "       [-1.30386315, -1.50006894],\n",
       "       [-1.76041262, -1.44538728],\n",
       "       [-1.83554145, -1.7466618 ],\n",
       "       [-1.87187082, -2.07848011],\n",
       "       [-1.94981962, -2.3787731 ],\n",
       "       [-1.5161798 , -2.51932853],\n",
       "       [-1.38712467, -2.23698389],\n",
       "       [-0.94171258, -2.31358513],\n",
       "       [-0.92520565, -2.62416292],\n",
       "       [-0.47698892, -2.64645533],\n",
       "       [-0.44270554, -2.33702243],\n",
       "       [-0.35981868, -2.05012523],\n",
       "       [-0.27552256, -1.75050046],\n",
       "       [-0.67623807, -1.58809493],\n",
       "       [-0.82760344, -1.86061028]])"
      ]
     },
     "execution_count": 48,
     "metadata": {},
     "output_type": "execute_result"
    }
   ],
   "source": [
    "Tree.data"
   ]
  },
  {
   "cell_type": "code",
   "execution_count": null,
   "metadata": {},
   "outputs": [],
   "source": []
  },
  {
   "cell_type": "code",
   "execution_count": null,
   "metadata": {},
   "outputs": [],
   "source": []
  }
 ],
 "metadata": {
  "kernelspec": {
   "display_name": "Python 3",
   "language": "python",
   "name": "python3"
  },
  "language_info": {
   "codemirror_mode": {
    "name": "ipython",
    "version": 3
   },
   "file_extension": ".py",
   "mimetype": "text/x-python",
   "name": "python",
   "nbconvert_exporter": "python",
   "pygments_lexer": "ipython3",
   "version": "3.7.3"
  }
 },
 "nbformat": 4,
 "nbformat_minor": 2
}
